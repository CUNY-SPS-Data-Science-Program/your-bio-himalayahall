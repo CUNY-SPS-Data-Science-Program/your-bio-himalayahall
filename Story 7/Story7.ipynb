{
 "cells": [
  {
   "cell_type": "code",
   "execution_count": 58,
   "metadata": {},
   "outputs": [],
   "source": [
    "import pandas as pd\n",
    "import plotly.express as px"
   ]
  },
  {
   "cell_type": "code",
   "execution_count": 59,
   "outputs": [
    {
     "data": {
      "text/plain": "  Strategic Mineral                                               Desc  \\\n0          Aluminum          used in almost all sectors of the economy   \n1          Antimony   used in lead-acid batteries and flame retardants   \n2           Arsenic                            used in semi-conductors   \n3            Barite                     used in hydrocarbon production   \n4         Beryllium  used as an alloying agent in aerospace and def...   \n\n  Country  Production Share %  \n0   China               57.97  \n1   China               54.55  \n2   China               45.90  \n3   India               32.91  \n4     USA               64.29  ",
      "text/html": "<div>\n<style scoped>\n    .dataframe tbody tr th:only-of-type {\n        vertical-align: middle;\n    }\n\n    .dataframe tbody tr th {\n        vertical-align: top;\n    }\n\n    .dataframe thead th {\n        text-align: right;\n    }\n</style>\n<table border=\"1\" class=\"dataframe\">\n  <thead>\n    <tr style=\"text-align: right;\">\n      <th></th>\n      <th>Strategic Mineral</th>\n      <th>Desc</th>\n      <th>Country</th>\n      <th>Production Share %</th>\n    </tr>\n  </thead>\n  <tbody>\n    <tr>\n      <th>0</th>\n      <td>Aluminum</td>\n      <td>used in almost all sectors of the economy</td>\n      <td>China</td>\n      <td>57.97</td>\n    </tr>\n    <tr>\n      <th>1</th>\n      <td>Antimony</td>\n      <td>used in lead-acid batteries and flame retardants</td>\n      <td>China</td>\n      <td>54.55</td>\n    </tr>\n    <tr>\n      <th>2</th>\n      <td>Arsenic</td>\n      <td>used in semi-conductors</td>\n      <td>China</td>\n      <td>45.90</td>\n    </tr>\n    <tr>\n      <th>3</th>\n      <td>Barite</td>\n      <td>used in hydrocarbon production</td>\n      <td>India</td>\n      <td>32.91</td>\n    </tr>\n    <tr>\n      <th>4</th>\n      <td>Beryllium</td>\n      <td>used as an alloying agent in aerospace and def...</td>\n      <td>USA</td>\n      <td>64.29</td>\n    </tr>\n  </tbody>\n</table>\n</div>"
     },
     "execution_count": 59,
     "metadata": {},
     "output_type": "execute_result"
    }
   ],
   "source": [
    "criticals = pd.read_csv('/Users/jawaidhakim/Downloads/CUNY/DATA608/Story 7/data/criticals.csv', skipinitialspace = True)\n",
    "criticals.head()"
   ],
   "metadata": {
    "collapsed": false
   }
  },
  {
   "cell_type": "code",
   "execution_count": 60,
   "outputs": [
    {
     "data": {
      "text/plain": "        Country\n0   Afghanistan\n1       Belarus\n2         China\n3          Cuba\n4       Eritrea\n5          Iran\n6          Mali\n7       Myanmar\n8     Nicaragua\n9   North Korea\n10       Russia\n11        Syria\n12    Venezuela\n13     Zimbabwe",
      "text/html": "<div>\n<style scoped>\n    .dataframe tbody tr th:only-of-type {\n        vertical-align: middle;\n    }\n\n    .dataframe tbody tr th {\n        vertical-align: top;\n    }\n\n    .dataframe thead th {\n        text-align: right;\n    }\n</style>\n<table border=\"1\" class=\"dataframe\">\n  <thead>\n    <tr style=\"text-align: right;\">\n      <th></th>\n      <th>Country</th>\n    </tr>\n  </thead>\n  <tbody>\n    <tr>\n      <th>0</th>\n      <td>Afghanistan</td>\n    </tr>\n    <tr>\n      <th>1</th>\n      <td>Belarus</td>\n    </tr>\n    <tr>\n      <th>2</th>\n      <td>China</td>\n    </tr>\n    <tr>\n      <th>3</th>\n      <td>Cuba</td>\n    </tr>\n    <tr>\n      <th>4</th>\n      <td>Eritrea</td>\n    </tr>\n    <tr>\n      <th>5</th>\n      <td>Iran</td>\n    </tr>\n    <tr>\n      <th>6</th>\n      <td>Mali</td>\n    </tr>\n    <tr>\n      <th>7</th>\n      <td>Myanmar</td>\n    </tr>\n    <tr>\n      <th>8</th>\n      <td>Nicaragua</td>\n    </tr>\n    <tr>\n      <th>9</th>\n      <td>North Korea</td>\n    </tr>\n    <tr>\n      <th>10</th>\n      <td>Russia</td>\n    </tr>\n    <tr>\n      <th>11</th>\n      <td>Syria</td>\n    </tr>\n    <tr>\n      <th>12</th>\n      <td>Venezuela</td>\n    </tr>\n    <tr>\n      <th>13</th>\n      <td>Zimbabwe</td>\n    </tr>\n  </tbody>\n</table>\n</div>"
     },
     "execution_count": 60,
     "metadata": {},
     "output_type": "execute_result"
    }
   ],
   "source": [
    "strained_relations = pd.read_csv('/Users/jawaidhakim/Downloads/CUNY/DATA608/Story 7/data/strained_relations.csv')\n",
    "strained_relations"
   ],
   "metadata": {
    "collapsed": false
   }
  },
  {
   "cell_type": "code",
   "execution_count": 61,
   "outputs": [
    {
     "name": "stdout",
     "output_type": "stream",
     "text": [
      "Afghanistan\n",
      "Belarus\n",
      "China\n",
      "Cuba\n",
      "Eritrea\n",
      "Iran\n",
      "Mali\n",
      "Myanmar\n",
      "Nicaragua\n",
      "North Korea\n",
      "Russia\n",
      "Syria\n",
      "Venezuela\n",
      "Zimbabwe\n"
     ]
    },
    {
     "data": {
      "text/plain": "   Strategic Mineral                                               Desc  \\\n0           Aluminum          used in almost all sectors of the economy   \n1           Antimony   used in lead-acid batteries and flame retardants   \n2            Arsenic                            used in semi-conductors   \n3             Barite                     used in hydrocarbon production   \n4          Beryllium  used as an alloying agent in aerospace and def...   \n5            Bismuth                used in medical and atomic research   \n6             Cerium  used in catalytic converters, ceramics, glass,...   \n7             Cesium                   used in research and development   \n8           Chromium  used primarily in stainless steel and other al...   \n9             Cobalt     used in rechargeable batteries and superalloys   \n10        Dysprosium  used in permanent magnets, data storage device...   \n11            Erbium  used in fiber optics, optical amplifiers, lase...   \n12          Europium         used in phosphors and nuclear control rods   \n13         Fluorspar  used in the manufacture of aluminum, cement, s...   \n14        Gadolinium  used in medical imaging, permanent magnets, an...   \n15           Gallium  used for integrated circuits and optical devic...   \n16         Germanium  used for fiber optics and night vision applica...   \n17         Graphite      used for lubricants, batteries, and fuel cells   \n18           Hafnium  used for nuclear control rods, alloys, and hig...   \n19           Holmium  used in permanent magnets, nuclear control rod...   \n20            Indium             used in liquid crystal display screens   \n21           Iridium  used as coating of anodes for electrochemical ...   \n22         Lanthanum  used to produce catalysts, ceramics, glass, po...   \n23           Lithium                    used for rechargeable batteries   \n24          Lutetium  used in scintillators for medical imaging, ele...   \n25         Magnesium           used as an alloy and for reducing metals   \n26         Manganese                  used in steelmaking and batteries   \n27         Neodymium  used in permanent magnets, rubber catalysts, a...   \n28            Nickel  used to make stainless steel, superalloys, and...   \n29           Niobium               used mostly in steel and superalloys   \n30         Palladium  used in catalytic converters and as a catalyst...   \n31          Platinum                       used in catalytic converters   \n32      Praseodymium  used in permanent magnets, batteries, aerospac...   \n33           Rhodium  used in catalytic converters, electrical compo...   \n34          Rubidium   used for research and development in electronics   \n35         Ruthenium  used as catalysts, as well as electrical conta...   \n36          Samarium  used in permanent magnets, as an absorber in n...   \n37          Scandium          used for alloys, ceramics, and fuel cells   \n38          Tantalum  used in electronic components, mostly capacito...   \n39         Tellurium  used in solar cells, thermoelectric devices, a...   \n40           Terbium  used in permanent magnets, fiber optics, laser...   \n41           Thulium         used in various metal alloys and in lasers   \n42               Tin   used as protective coatings and alloys for steel   \n43          Titanium            used as a white pigment or metal alloys   \n44          Tungsten       primarily used to make wear-resistant metals   \n45          Vanadium  primarily used as alloying agent for iron and ...   \n46         Ytterbium  used for catalysts, scintillometers, lasers, a...   \n47           Yttrium  used for ceramic, catalysts, lasers, metallurg...   \n48              Zinc  primarily used in metallurgy to produce galvan...   \n49         Zirconium  used in the high-temperature ceramics and corr...   \n\n         Country  Production Share %  Strained Relations  \n0          China               57.97                True  \n1          China               54.55                True  \n2          China               45.90                True  \n3          India               32.91               False  \n4            USA               64.29               False  \n5          China               80.00                True  \n6          China               97.00                True  \n7         Canada                 NaN               False  \n8   South Africa               43.90               False  \n9       DR Congo               68.42               False  \n10         China               90.00                True  \n11         China               97.00                True  \n12         China               97.00                True  \n13         China               68.67                True  \n14         China               97.00                True  \n15         China               98.18                True  \n16         China               60.00                True  \n17         China               65.38                True  \n18        France               45.00               False  \n19         China               97.00                True  \n20         China               58.89                True  \n21  South Africa               90.00               False  \n22         China               42.60                True  \n23     Australia               46.92               False  \n24         China               50.00                True  \n25         China               90.00                True  \n26  South Africa               36.00               False  \n27         China               90.00                True  \n28     Indonesia               48.48               False  \n29        Brazil               89.87               False  \n30        Russia               41.90                True  \n31  South Africa               73.68               False  \n32         China               70.00                True  \n33  South Africa               80.00               False  \n34        Canada               12.00               False  \n35  South Africa               91.00               False  \n36         China               90.00                True  \n37         China               97.00                True  \n38      DR Congo               43.00               False  \n39         China               53.13                True  \n40         China               90.00                True  \n41         China               50.00                True  \n42         China               30.65                True  \n43         China               50.00                True  \n44         China               84.52                True  \n45         China               70.00                True  \n46         China               50.00                True  \n47         China               97.00                True  \n48         China               32.21                True  \n49     Australia               70.00               False  ",
      "text/html": "<div>\n<style scoped>\n    .dataframe tbody tr th:only-of-type {\n        vertical-align: middle;\n    }\n\n    .dataframe tbody tr th {\n        vertical-align: top;\n    }\n\n    .dataframe thead th {\n        text-align: right;\n    }\n</style>\n<table border=\"1\" class=\"dataframe\">\n  <thead>\n    <tr style=\"text-align: right;\">\n      <th></th>\n      <th>Strategic Mineral</th>\n      <th>Desc</th>\n      <th>Country</th>\n      <th>Production Share %</th>\n      <th>Strained Relations</th>\n    </tr>\n  </thead>\n  <tbody>\n    <tr>\n      <th>0</th>\n      <td>Aluminum</td>\n      <td>used in almost all sectors of the economy</td>\n      <td>China</td>\n      <td>57.97</td>\n      <td>True</td>\n    </tr>\n    <tr>\n      <th>1</th>\n      <td>Antimony</td>\n      <td>used in lead-acid batteries and flame retardants</td>\n      <td>China</td>\n      <td>54.55</td>\n      <td>True</td>\n    </tr>\n    <tr>\n      <th>2</th>\n      <td>Arsenic</td>\n      <td>used in semi-conductors</td>\n      <td>China</td>\n      <td>45.90</td>\n      <td>True</td>\n    </tr>\n    <tr>\n      <th>3</th>\n      <td>Barite</td>\n      <td>used in hydrocarbon production</td>\n      <td>India</td>\n      <td>32.91</td>\n      <td>False</td>\n    </tr>\n    <tr>\n      <th>4</th>\n      <td>Beryllium</td>\n      <td>used as an alloying agent in aerospace and def...</td>\n      <td>USA</td>\n      <td>64.29</td>\n      <td>False</td>\n    </tr>\n    <tr>\n      <th>5</th>\n      <td>Bismuth</td>\n      <td>used in medical and atomic research</td>\n      <td>China</td>\n      <td>80.00</td>\n      <td>True</td>\n    </tr>\n    <tr>\n      <th>6</th>\n      <td>Cerium</td>\n      <td>used in catalytic converters, ceramics, glass,...</td>\n      <td>China</td>\n      <td>97.00</td>\n      <td>True</td>\n    </tr>\n    <tr>\n      <th>7</th>\n      <td>Cesium</td>\n      <td>used in research and development</td>\n      <td>Canada</td>\n      <td>NaN</td>\n      <td>False</td>\n    </tr>\n    <tr>\n      <th>8</th>\n      <td>Chromium</td>\n      <td>used primarily in stainless steel and other al...</td>\n      <td>South Africa</td>\n      <td>43.90</td>\n      <td>False</td>\n    </tr>\n    <tr>\n      <th>9</th>\n      <td>Cobalt</td>\n      <td>used in rechargeable batteries and superalloys</td>\n      <td>DR Congo</td>\n      <td>68.42</td>\n      <td>False</td>\n    </tr>\n    <tr>\n      <th>10</th>\n      <td>Dysprosium</td>\n      <td>used in permanent magnets, data storage device...</td>\n      <td>China</td>\n      <td>90.00</td>\n      <td>True</td>\n    </tr>\n    <tr>\n      <th>11</th>\n      <td>Erbium</td>\n      <td>used in fiber optics, optical amplifiers, lase...</td>\n      <td>China</td>\n      <td>97.00</td>\n      <td>True</td>\n    </tr>\n    <tr>\n      <th>12</th>\n      <td>Europium</td>\n      <td>used in phosphors and nuclear control rods</td>\n      <td>China</td>\n      <td>97.00</td>\n      <td>True</td>\n    </tr>\n    <tr>\n      <th>13</th>\n      <td>Fluorspar</td>\n      <td>used in the manufacture of aluminum, cement, s...</td>\n      <td>China</td>\n      <td>68.67</td>\n      <td>True</td>\n    </tr>\n    <tr>\n      <th>14</th>\n      <td>Gadolinium</td>\n      <td>used in medical imaging, permanent magnets, an...</td>\n      <td>China</td>\n      <td>97.00</td>\n      <td>True</td>\n    </tr>\n    <tr>\n      <th>15</th>\n      <td>Gallium</td>\n      <td>used for integrated circuits and optical devic...</td>\n      <td>China</td>\n      <td>98.18</td>\n      <td>True</td>\n    </tr>\n    <tr>\n      <th>16</th>\n      <td>Germanium</td>\n      <td>used for fiber optics and night vision applica...</td>\n      <td>China</td>\n      <td>60.00</td>\n      <td>True</td>\n    </tr>\n    <tr>\n      <th>17</th>\n      <td>Graphite</td>\n      <td>used for lubricants, batteries, and fuel cells</td>\n      <td>China</td>\n      <td>65.38</td>\n      <td>True</td>\n    </tr>\n    <tr>\n      <th>18</th>\n      <td>Hafnium</td>\n      <td>used for nuclear control rods, alloys, and hig...</td>\n      <td>France</td>\n      <td>45.00</td>\n      <td>False</td>\n    </tr>\n    <tr>\n      <th>19</th>\n      <td>Holmium</td>\n      <td>used in permanent magnets, nuclear control rod...</td>\n      <td>China</td>\n      <td>97.00</td>\n      <td>True</td>\n    </tr>\n    <tr>\n      <th>20</th>\n      <td>Indium</td>\n      <td>used in liquid crystal display screens</td>\n      <td>China</td>\n      <td>58.89</td>\n      <td>True</td>\n    </tr>\n    <tr>\n      <th>21</th>\n      <td>Iridium</td>\n      <td>used as coating of anodes for electrochemical ...</td>\n      <td>South Africa</td>\n      <td>90.00</td>\n      <td>False</td>\n    </tr>\n    <tr>\n      <th>22</th>\n      <td>Lanthanum</td>\n      <td>used to produce catalysts, ceramics, glass, po...</td>\n      <td>China</td>\n      <td>42.60</td>\n      <td>True</td>\n    </tr>\n    <tr>\n      <th>23</th>\n      <td>Lithium</td>\n      <td>used for rechargeable batteries</td>\n      <td>Australia</td>\n      <td>46.92</td>\n      <td>False</td>\n    </tr>\n    <tr>\n      <th>24</th>\n      <td>Lutetium</td>\n      <td>used in scintillators for medical imaging, ele...</td>\n      <td>China</td>\n      <td>50.00</td>\n      <td>True</td>\n    </tr>\n    <tr>\n      <th>25</th>\n      <td>Magnesium</td>\n      <td>used as an alloy and for reducing metals</td>\n      <td>China</td>\n      <td>90.00</td>\n      <td>True</td>\n    </tr>\n    <tr>\n      <th>26</th>\n      <td>Manganese</td>\n      <td>used in steelmaking and batteries</td>\n      <td>South Africa</td>\n      <td>36.00</td>\n      <td>False</td>\n    </tr>\n    <tr>\n      <th>27</th>\n      <td>Neodymium</td>\n      <td>used in permanent magnets, rubber catalysts, a...</td>\n      <td>China</td>\n      <td>90.00</td>\n      <td>True</td>\n    </tr>\n    <tr>\n      <th>28</th>\n      <td>Nickel</td>\n      <td>used to make stainless steel, superalloys, and...</td>\n      <td>Indonesia</td>\n      <td>48.48</td>\n      <td>False</td>\n    </tr>\n    <tr>\n      <th>29</th>\n      <td>Niobium</td>\n      <td>used mostly in steel and superalloys</td>\n      <td>Brazil</td>\n      <td>89.87</td>\n      <td>False</td>\n    </tr>\n    <tr>\n      <th>30</th>\n      <td>Palladium</td>\n      <td>used in catalytic converters and as a catalyst...</td>\n      <td>Russia</td>\n      <td>41.90</td>\n      <td>True</td>\n    </tr>\n    <tr>\n      <th>31</th>\n      <td>Platinum</td>\n      <td>used in catalytic converters</td>\n      <td>South Africa</td>\n      <td>73.68</td>\n      <td>False</td>\n    </tr>\n    <tr>\n      <th>32</th>\n      <td>Praseodymium</td>\n      <td>used in permanent magnets, batteries, aerospac...</td>\n      <td>China</td>\n      <td>70.00</td>\n      <td>True</td>\n    </tr>\n    <tr>\n      <th>33</th>\n      <td>Rhodium</td>\n      <td>used in catalytic converters, electrical compo...</td>\n      <td>South Africa</td>\n      <td>80.00</td>\n      <td>False</td>\n    </tr>\n    <tr>\n      <th>34</th>\n      <td>Rubidium</td>\n      <td>used for research and development in electronics</td>\n      <td>Canada</td>\n      <td>12.00</td>\n      <td>False</td>\n    </tr>\n    <tr>\n      <th>35</th>\n      <td>Ruthenium</td>\n      <td>used as catalysts, as well as electrical conta...</td>\n      <td>South Africa</td>\n      <td>91.00</td>\n      <td>False</td>\n    </tr>\n    <tr>\n      <th>36</th>\n      <td>Samarium</td>\n      <td>used in permanent magnets, as an absorber in n...</td>\n      <td>China</td>\n      <td>90.00</td>\n      <td>True</td>\n    </tr>\n    <tr>\n      <th>37</th>\n      <td>Scandium</td>\n      <td>used for alloys, ceramics, and fuel cells</td>\n      <td>China</td>\n      <td>97.00</td>\n      <td>True</td>\n    </tr>\n    <tr>\n      <th>38</th>\n      <td>Tantalum</td>\n      <td>used in electronic components, mostly capacito...</td>\n      <td>DR Congo</td>\n      <td>43.00</td>\n      <td>False</td>\n    </tr>\n    <tr>\n      <th>39</th>\n      <td>Tellurium</td>\n      <td>used in solar cells, thermoelectric devices, a...</td>\n      <td>China</td>\n      <td>53.13</td>\n      <td>True</td>\n    </tr>\n    <tr>\n      <th>40</th>\n      <td>Terbium</td>\n      <td>used in permanent magnets, fiber optics, laser...</td>\n      <td>China</td>\n      <td>90.00</td>\n      <td>True</td>\n    </tr>\n    <tr>\n      <th>41</th>\n      <td>Thulium</td>\n      <td>used in various metal alloys and in lasers</td>\n      <td>China</td>\n      <td>50.00</td>\n      <td>True</td>\n    </tr>\n    <tr>\n      <th>42</th>\n      <td>Tin</td>\n      <td>used as protective coatings and alloys for steel</td>\n      <td>China</td>\n      <td>30.65</td>\n      <td>True</td>\n    </tr>\n    <tr>\n      <th>43</th>\n      <td>Titanium</td>\n      <td>used as a white pigment or metal alloys</td>\n      <td>China</td>\n      <td>50.00</td>\n      <td>True</td>\n    </tr>\n    <tr>\n      <th>44</th>\n      <td>Tungsten</td>\n      <td>primarily used to make wear-resistant metals</td>\n      <td>China</td>\n      <td>84.52</td>\n      <td>True</td>\n    </tr>\n    <tr>\n      <th>45</th>\n      <td>Vanadium</td>\n      <td>primarily used as alloying agent for iron and ...</td>\n      <td>China</td>\n      <td>70.00</td>\n      <td>True</td>\n    </tr>\n    <tr>\n      <th>46</th>\n      <td>Ytterbium</td>\n      <td>used for catalysts, scintillometers, lasers, a...</td>\n      <td>China</td>\n      <td>50.00</td>\n      <td>True</td>\n    </tr>\n    <tr>\n      <th>47</th>\n      <td>Yttrium</td>\n      <td>used for ceramic, catalysts, lasers, metallurg...</td>\n      <td>China</td>\n      <td>97.00</td>\n      <td>True</td>\n    </tr>\n    <tr>\n      <th>48</th>\n      <td>Zinc</td>\n      <td>primarily used in metallurgy to produce galvan...</td>\n      <td>China</td>\n      <td>32.21</td>\n      <td>True</td>\n    </tr>\n    <tr>\n      <th>49</th>\n      <td>Zirconium</td>\n      <td>used in the high-temperature ceramics and corr...</td>\n      <td>Australia</td>\n      <td>70.00</td>\n      <td>False</td>\n    </tr>\n  </tbody>\n</table>\n</div>"
     },
     "execution_count": 61,
     "metadata": {},
     "output_type": "execute_result"
    }
   ],
   "source": [
    "criticals[\"Strained Relations\"] = False\n",
    "for s in strained_relations['Country']:\n",
    "    print(s)\n",
    "    criticals.loc[criticals[\"Country\"] == s, \"Strained Relations\"] = True\n",
    "criticals"
   ],
   "metadata": {
    "collapsed": false
   }
  },
  {
   "cell_type": "code",
   "execution_count": 61,
   "outputs": [],
   "source": [],
   "metadata": {
    "collapsed": false
   }
  },
  {
   "cell_type": "code",
   "execution_count": 64,
   "metadata": {},
   "outputs": [
    {
     "data": {
      "application/vnd.plotly.v1+json": {
       "data": [
        {
         "alignmentgroup": "True",
         "customdata": [
          [
           "used in almost all sectors of the economy"
          ],
          [
           "used in lead-acid batteries and flame retardants"
          ],
          [
           "used in semi-conductors"
          ],
          [
           "used in medical and atomic research"
          ],
          [
           "used in catalytic converters, ceramics, glass, metallurgy, and polishing compounds"
          ],
          [
           "used in permanent magnets, data storage devices, and lasers"
          ],
          [
           "used in fiber optics, optical amplifiers, lasers, and glass colorants"
          ],
          [
           "used in phosphors and nuclear control rods"
          ],
          [
           "used in the manufacture of aluminum, cement, steel, gasoline, and fluorine chemicals"
          ],
          [
           "used in medical imaging, permanent magnets, and steelmaking"
          ],
          [
           "used for integrated circuits and optical devices like LEDs"
          ],
          [
           "used for fiber optics and night vision applications"
          ],
          [
           "used for lubricants, batteries, and fuel cells"
          ],
          [
           "used in permanent magnets, nuclear control rods, and lasers"
          ],
          [
           "used in liquid crystal display screens"
          ],
          [
           "used to produce catalysts, ceramics, glass, polishing compounds, metallurgy, and batteries"
          ],
          [
           "used in scintillators for medical imaging, electronics, and some cancer therapies"
          ],
          [
           "used as an alloy and for reducing metals"
          ],
          [
           "used in permanent magnets, rubber catalysts, and in medical and industrial lasers"
          ],
          [
           "used in catalytic converters and as a catalyst agent"
          ],
          [
           "used in permanent magnets, batteries, aerospace alloys, ceramics, and colorants"
          ],
          [
           "used in permanent magnets, as an absorber in nuclear reactors, and in cancer treatments"
          ],
          [
           "used for alloys, ceramics, and fuel cells"
          ],
          [
           "used in solar cells, thermoelectric devices, and as alloying additive"
          ],
          [
           "used in permanent magnets, fiber optics, lasers, and solid-state devices"
          ],
          [
           "used in various metal alloys and in lasers"
          ],
          [
           "used as protective coatings and alloys for steel"
          ],
          [
           "used as a white pigment or metal alloys"
          ],
          [
           "primarily used to make wear-resistant metals"
          ],
          [
           "primarily used as alloying agent for iron and steel"
          ],
          [
           "used for catalysts, scintillometers, lasers, and metallurgy"
          ],
          [
           "used for ceramic, catalysts, lasers, metallurgy, and phosphors"
          ],
          [
           "primarily used in metallurgy to produce galvanized steel"
          ]
         ],
         "hovertemplate": "Strained Relations=True<br>Strategic Mineral=%{x}<br>Production Share %=%{y}<br>Country=%{text}<br>Desc=%{customdata[0]}<extra></extra>",
         "legendgroup": "True",
         "marker": {
          "color": "#de2d26",
          "pattern": {
           "shape": ""
          }
         },
         "name": "True",
         "offsetgroup": "True",
         "orientation": "v",
         "showlegend": true,
         "text": [
          "China",
          "China",
          "China",
          "China",
          "China",
          "China",
          "China",
          "China",
          "China",
          "China",
          "China",
          "China",
          "China",
          "China",
          "China",
          "China",
          "China",
          "China",
          "China",
          "Russia",
          "China",
          "China",
          "China",
          "China",
          "China",
          "China",
          "China",
          "China",
          "China",
          "China",
          "China",
          "China",
          "China"
         ],
         "textposition": "auto",
         "x": [
          "Aluminum",
          "Antimony",
          "Arsenic",
          "Bismuth",
          "Cerium",
          "Dysprosium",
          "Erbium",
          "Europium",
          "Fluorspar",
          "Gadolinium",
          "Gallium",
          "Germanium",
          "Graphite ",
          "Holmium",
          "Indium",
          "Lanthanum",
          "Lutetium",
          "Magnesium",
          "Neodymium",
          "Palladium",
          "Praseodymium",
          "Samarium",
          "Scandium",
          "Tellurium",
          "Terbium",
          "Thulium",
          "Tin",
          "Titanium",
          "Tungsten",
          "Vanadium",
          "Ytterbium",
          "Yttrium",
          "Zinc"
         ],
         "xaxis": "x",
         "y": [
          57.97,
          54.55,
          45.9,
          80.0,
          97.0,
          90.0,
          97.0,
          97.0,
          68.67,
          97.0,
          98.18,
          60.0,
          65.38,
          97.0,
          58.89,
          42.6,
          50.0,
          90.0,
          90.0,
          41.9,
          70.0,
          90.0,
          97.0,
          53.13,
          90.0,
          50.0,
          30.65,
          50.0,
          84.52,
          70.0,
          50.0,
          97.0,
          32.21
         ],
         "yaxis": "y",
         "type": "bar"
        },
        {
         "alignmentgroup": "True",
         "customdata": [
          [
           "used in hydrocarbon production"
          ],
          [
           "used as an alloying agent in aerospace and defense industries"
          ],
          [
           "used in research and development"
          ],
          [
           "used primarily in stainless steel and other alloys"
          ],
          [
           "used in rechargeable batteries and superalloys"
          ],
          [
           "used for nuclear control rods, alloys, and high-temperature ceramics"
          ],
          [
           "used as coating of anodes for electrochemical processes and as a chemical catalyst"
          ],
          [
           "used for rechargeable batteries"
          ],
          [
           "used in steelmaking and batteries"
          ],
          [
           "used to make stainless steel, superalloys, and rechargeable batteries"
          ],
          [
           "used mostly in steel and superalloys"
          ],
          [
           "used in catalytic converters"
          ],
          [
           "used in catalytic converters, electrical components, and as a catalyst"
          ],
          [
           "used for research and development in electronics"
          ],
          [
           "used as catalysts, as well as electrical contacts and chip resistors in computers"
          ],
          [
           "used in electronic components, mostly capacitors and in superalloys"
          ],
          [
           "used in the high-temperature ceramics and corrosion-resistant alloys"
          ]
         ],
         "hovertemplate": "Strained Relations=False<br>Strategic Mineral=%{x}<br>Production Share %=%{y}<br>Country=%{text}<br>Desc=%{customdata[0]}<extra></extra>",
         "legendgroup": "False",
         "marker": {
          "color": "#a6bddb",
          "pattern": {
           "shape": ""
          }
         },
         "name": "False",
         "offsetgroup": "False",
         "orientation": "v",
         "showlegend": true,
         "text": [
          "India",
          "USA",
          "Canada",
          "South Africa",
          "DR Congo",
          "France",
          "South Africa",
          "Australia",
          "South Africa",
          "Indonesia",
          "Brazil",
          "South Africa",
          "South Africa",
          "Canada",
          "South Africa",
          "DR Congo",
          "Australia"
         ],
         "textposition": "auto",
         "x": [
          "Barite",
          "Beryllium",
          "Cesium",
          "Chromium",
          "Cobalt",
          "Hafnium",
          "Iridium",
          "Lithium",
          "Manganese",
          "Nickel",
          "Niobium",
          "Platinum",
          "Rhodium",
          "Rubidium",
          "Ruthenium",
          "Tantalum",
          "Zirconium"
         ],
         "xaxis": "x",
         "y": [
          32.91,
          64.29,
          null,
          43.9,
          68.42,
          45.0,
          90.0,
          46.92,
          36.0,
          48.48,
          89.87,
          73.68,
          80.0,
          12.0,
          91.0,
          43.0,
          70.0
         ],
         "yaxis": "y",
         "type": "bar"
        }
       ],
       "layout": {
        "template": {
         "data": {
          "histogram2dcontour": [
           {
            "type": "histogram2dcontour",
            "colorbar": {
             "outlinewidth": 0,
             "ticks": ""
            },
            "colorscale": [
             [
              0.0,
              "#0d0887"
             ],
             [
              0.1111111111111111,
              "#46039f"
             ],
             [
              0.2222222222222222,
              "#7201a8"
             ],
             [
              0.3333333333333333,
              "#9c179e"
             ],
             [
              0.4444444444444444,
              "#bd3786"
             ],
             [
              0.5555555555555556,
              "#d8576b"
             ],
             [
              0.6666666666666666,
              "#ed7953"
             ],
             [
              0.7777777777777778,
              "#fb9f3a"
             ],
             [
              0.8888888888888888,
              "#fdca26"
             ],
             [
              1.0,
              "#f0f921"
             ]
            ]
           }
          ],
          "choropleth": [
           {
            "type": "choropleth",
            "colorbar": {
             "outlinewidth": 0,
             "ticks": ""
            }
           }
          ],
          "histogram2d": [
           {
            "type": "histogram2d",
            "colorbar": {
             "outlinewidth": 0,
             "ticks": ""
            },
            "colorscale": [
             [
              0.0,
              "#0d0887"
             ],
             [
              0.1111111111111111,
              "#46039f"
             ],
             [
              0.2222222222222222,
              "#7201a8"
             ],
             [
              0.3333333333333333,
              "#9c179e"
             ],
             [
              0.4444444444444444,
              "#bd3786"
             ],
             [
              0.5555555555555556,
              "#d8576b"
             ],
             [
              0.6666666666666666,
              "#ed7953"
             ],
             [
              0.7777777777777778,
              "#fb9f3a"
             ],
             [
              0.8888888888888888,
              "#fdca26"
             ],
             [
              1.0,
              "#f0f921"
             ]
            ]
           }
          ],
          "heatmap": [
           {
            "type": "heatmap",
            "colorbar": {
             "outlinewidth": 0,
             "ticks": ""
            },
            "colorscale": [
             [
              0.0,
              "#0d0887"
             ],
             [
              0.1111111111111111,
              "#46039f"
             ],
             [
              0.2222222222222222,
              "#7201a8"
             ],
             [
              0.3333333333333333,
              "#9c179e"
             ],
             [
              0.4444444444444444,
              "#bd3786"
             ],
             [
              0.5555555555555556,
              "#d8576b"
             ],
             [
              0.6666666666666666,
              "#ed7953"
             ],
             [
              0.7777777777777778,
              "#fb9f3a"
             ],
             [
              0.8888888888888888,
              "#fdca26"
             ],
             [
              1.0,
              "#f0f921"
             ]
            ]
           }
          ],
          "heatmapgl": [
           {
            "type": "heatmapgl",
            "colorbar": {
             "outlinewidth": 0,
             "ticks": ""
            },
            "colorscale": [
             [
              0.0,
              "#0d0887"
             ],
             [
              0.1111111111111111,
              "#46039f"
             ],
             [
              0.2222222222222222,
              "#7201a8"
             ],
             [
              0.3333333333333333,
              "#9c179e"
             ],
             [
              0.4444444444444444,
              "#bd3786"
             ],
             [
              0.5555555555555556,
              "#d8576b"
             ],
             [
              0.6666666666666666,
              "#ed7953"
             ],
             [
              0.7777777777777778,
              "#fb9f3a"
             ],
             [
              0.8888888888888888,
              "#fdca26"
             ],
             [
              1.0,
              "#f0f921"
             ]
            ]
           }
          ],
          "contourcarpet": [
           {
            "type": "contourcarpet",
            "colorbar": {
             "outlinewidth": 0,
             "ticks": ""
            }
           }
          ],
          "contour": [
           {
            "type": "contour",
            "colorbar": {
             "outlinewidth": 0,
             "ticks": ""
            },
            "colorscale": [
             [
              0.0,
              "#0d0887"
             ],
             [
              0.1111111111111111,
              "#46039f"
             ],
             [
              0.2222222222222222,
              "#7201a8"
             ],
             [
              0.3333333333333333,
              "#9c179e"
             ],
             [
              0.4444444444444444,
              "#bd3786"
             ],
             [
              0.5555555555555556,
              "#d8576b"
             ],
             [
              0.6666666666666666,
              "#ed7953"
             ],
             [
              0.7777777777777778,
              "#fb9f3a"
             ],
             [
              0.8888888888888888,
              "#fdca26"
             ],
             [
              1.0,
              "#f0f921"
             ]
            ]
           }
          ],
          "surface": [
           {
            "type": "surface",
            "colorbar": {
             "outlinewidth": 0,
             "ticks": ""
            },
            "colorscale": [
             [
              0.0,
              "#0d0887"
             ],
             [
              0.1111111111111111,
              "#46039f"
             ],
             [
              0.2222222222222222,
              "#7201a8"
             ],
             [
              0.3333333333333333,
              "#9c179e"
             ],
             [
              0.4444444444444444,
              "#bd3786"
             ],
             [
              0.5555555555555556,
              "#d8576b"
             ],
             [
              0.6666666666666666,
              "#ed7953"
             ],
             [
              0.7777777777777778,
              "#fb9f3a"
             ],
             [
              0.8888888888888888,
              "#fdca26"
             ],
             [
              1.0,
              "#f0f921"
             ]
            ]
           }
          ],
          "mesh3d": [
           {
            "type": "mesh3d",
            "colorbar": {
             "outlinewidth": 0,
             "ticks": ""
            }
           }
          ],
          "scatter": [
           {
            "marker": {
             "line": {
              "color": "#283442"
             }
            },
            "type": "scatter"
           }
          ],
          "parcoords": [
           {
            "type": "parcoords",
            "line": {
             "colorbar": {
              "outlinewidth": 0,
              "ticks": ""
             }
            }
           }
          ],
          "scatterpolargl": [
           {
            "type": "scatterpolargl",
            "marker": {
             "colorbar": {
              "outlinewidth": 0,
              "ticks": ""
             }
            }
           }
          ],
          "bar": [
           {
            "error_x": {
             "color": "#f2f5fa"
            },
            "error_y": {
             "color": "#f2f5fa"
            },
            "marker": {
             "line": {
              "color": "rgb(17,17,17)",
              "width": 0.5
             },
             "pattern": {
              "fillmode": "overlay",
              "size": 10,
              "solidity": 0.2
             }
            },
            "type": "bar"
           }
          ],
          "scattergeo": [
           {
            "type": "scattergeo",
            "marker": {
             "colorbar": {
              "outlinewidth": 0,
              "ticks": ""
             }
            }
           }
          ],
          "scatterpolar": [
           {
            "type": "scatterpolar",
            "marker": {
             "colorbar": {
              "outlinewidth": 0,
              "ticks": ""
             }
            }
           }
          ],
          "histogram": [
           {
            "marker": {
             "pattern": {
              "fillmode": "overlay",
              "size": 10,
              "solidity": 0.2
             }
            },
            "type": "histogram"
           }
          ],
          "scattergl": [
           {
            "marker": {
             "line": {
              "color": "#283442"
             }
            },
            "type": "scattergl"
           }
          ],
          "scatter3d": [
           {
            "type": "scatter3d",
            "line": {
             "colorbar": {
              "outlinewidth": 0,
              "ticks": ""
             }
            },
            "marker": {
             "colorbar": {
              "outlinewidth": 0,
              "ticks": ""
             }
            }
           }
          ],
          "scattermapbox": [
           {
            "type": "scattermapbox",
            "marker": {
             "colorbar": {
              "outlinewidth": 0,
              "ticks": ""
             }
            }
           }
          ],
          "scatterternary": [
           {
            "type": "scatterternary",
            "marker": {
             "colorbar": {
              "outlinewidth": 0,
              "ticks": ""
             }
            }
           }
          ],
          "scattercarpet": [
           {
            "type": "scattercarpet",
            "marker": {
             "colorbar": {
              "outlinewidth": 0,
              "ticks": ""
             }
            }
           }
          ],
          "carpet": [
           {
            "aaxis": {
             "endlinecolor": "#A2B1C6",
             "gridcolor": "#506784",
             "linecolor": "#506784",
             "minorgridcolor": "#506784",
             "startlinecolor": "#A2B1C6"
            },
            "baxis": {
             "endlinecolor": "#A2B1C6",
             "gridcolor": "#506784",
             "linecolor": "#506784",
             "minorgridcolor": "#506784",
             "startlinecolor": "#A2B1C6"
            },
            "type": "carpet"
           }
          ],
          "table": [
           {
            "cells": {
             "fill": {
              "color": "#506784"
             },
             "line": {
              "color": "rgb(17,17,17)"
             }
            },
            "header": {
             "fill": {
              "color": "#2a3f5f"
             },
             "line": {
              "color": "rgb(17,17,17)"
             }
            },
            "type": "table"
           }
          ],
          "barpolar": [
           {
            "marker": {
             "line": {
              "color": "rgb(17,17,17)",
              "width": 0.5
             },
             "pattern": {
              "fillmode": "overlay",
              "size": 10,
              "solidity": 0.2
             }
            },
            "type": "barpolar"
           }
          ],
          "pie": [
           {
            "automargin": true,
            "type": "pie"
           }
          ]
         },
         "layout": {
          "autotypenumbers": "strict",
          "colorway": [
           "#636efa",
           "#EF553B",
           "#00cc96",
           "#ab63fa",
           "#FFA15A",
           "#19d3f3",
           "#FF6692",
           "#B6E880",
           "#FF97FF",
           "#FECB52"
          ],
          "font": {
           "color": "#f2f5fa"
          },
          "hovermode": "closest",
          "hoverlabel": {
           "align": "left"
          },
          "paper_bgcolor": "rgb(17,17,17)",
          "plot_bgcolor": "rgb(17,17,17)",
          "polar": {
           "bgcolor": "rgb(17,17,17)",
           "angularaxis": {
            "gridcolor": "#506784",
            "linecolor": "#506784",
            "ticks": ""
           },
           "radialaxis": {
            "gridcolor": "#506784",
            "linecolor": "#506784",
            "ticks": ""
           }
          },
          "ternary": {
           "bgcolor": "rgb(17,17,17)",
           "aaxis": {
            "gridcolor": "#506784",
            "linecolor": "#506784",
            "ticks": ""
           },
           "baxis": {
            "gridcolor": "#506784",
            "linecolor": "#506784",
            "ticks": ""
           },
           "caxis": {
            "gridcolor": "#506784",
            "linecolor": "#506784",
            "ticks": ""
           }
          },
          "coloraxis": {
           "colorbar": {
            "outlinewidth": 0,
            "ticks": ""
           }
          },
          "colorscale": {
           "sequential": [
            [
             0.0,
             "#0d0887"
            ],
            [
             0.1111111111111111,
             "#46039f"
            ],
            [
             0.2222222222222222,
             "#7201a8"
            ],
            [
             0.3333333333333333,
             "#9c179e"
            ],
            [
             0.4444444444444444,
             "#bd3786"
            ],
            [
             0.5555555555555556,
             "#d8576b"
            ],
            [
             0.6666666666666666,
             "#ed7953"
            ],
            [
             0.7777777777777778,
             "#fb9f3a"
            ],
            [
             0.8888888888888888,
             "#fdca26"
            ],
            [
             1.0,
             "#f0f921"
            ]
           ],
           "sequentialminus": [
            [
             0.0,
             "#0d0887"
            ],
            [
             0.1111111111111111,
             "#46039f"
            ],
            [
             0.2222222222222222,
             "#7201a8"
            ],
            [
             0.3333333333333333,
             "#9c179e"
            ],
            [
             0.4444444444444444,
             "#bd3786"
            ],
            [
             0.5555555555555556,
             "#d8576b"
            ],
            [
             0.6666666666666666,
             "#ed7953"
            ],
            [
             0.7777777777777778,
             "#fb9f3a"
            ],
            [
             0.8888888888888888,
             "#fdca26"
            ],
            [
             1.0,
             "#f0f921"
            ]
           ],
           "diverging": [
            [
             0,
             "#8e0152"
            ],
            [
             0.1,
             "#c51b7d"
            ],
            [
             0.2,
             "#de77ae"
            ],
            [
             0.3,
             "#f1b6da"
            ],
            [
             0.4,
             "#fde0ef"
            ],
            [
             0.5,
             "#f7f7f7"
            ],
            [
             0.6,
             "#e6f5d0"
            ],
            [
             0.7,
             "#b8e186"
            ],
            [
             0.8,
             "#7fbc41"
            ],
            [
             0.9,
             "#4d9221"
            ],
            [
             1,
             "#276419"
            ]
           ]
          },
          "xaxis": {
           "gridcolor": "#283442",
           "linecolor": "#506784",
           "ticks": "",
           "title": {
            "standoff": 15
           },
           "zerolinecolor": "#283442",
           "automargin": true,
           "zerolinewidth": 2
          },
          "yaxis": {
           "gridcolor": "#283442",
           "linecolor": "#506784",
           "ticks": "",
           "title": {
            "standoff": 15
           },
           "zerolinecolor": "#283442",
           "automargin": true,
           "zerolinewidth": 2
          },
          "scene": {
           "xaxis": {
            "backgroundcolor": "rgb(17,17,17)",
            "gridcolor": "#506784",
            "linecolor": "#506784",
            "showbackground": true,
            "ticks": "",
            "zerolinecolor": "#C8D4E3",
            "gridwidth": 2
           },
           "yaxis": {
            "backgroundcolor": "rgb(17,17,17)",
            "gridcolor": "#506784",
            "linecolor": "#506784",
            "showbackground": true,
            "ticks": "",
            "zerolinecolor": "#C8D4E3",
            "gridwidth": 2
           },
           "zaxis": {
            "backgroundcolor": "rgb(17,17,17)",
            "gridcolor": "#506784",
            "linecolor": "#506784",
            "showbackground": true,
            "ticks": "",
            "zerolinecolor": "#C8D4E3",
            "gridwidth": 2
           }
          },
          "shapedefaults": {
           "line": {
            "color": "#f2f5fa"
           }
          },
          "annotationdefaults": {
           "arrowcolor": "#f2f5fa",
           "arrowhead": 0,
           "arrowwidth": 1
          },
          "geo": {
           "bgcolor": "rgb(17,17,17)",
           "landcolor": "rgb(17,17,17)",
           "subunitcolor": "#506784",
           "showland": true,
           "showlakes": true,
           "lakecolor": "rgb(17,17,17)"
          },
          "title": {
           "x": 0.05
          },
          "updatemenudefaults": {
           "bgcolor": "#506784",
           "borderwidth": 0
          },
          "sliderdefaults": {
           "bgcolor": "#C8D4E3",
           "borderwidth": 1,
           "bordercolor": "rgb(17,17,17)",
           "tickwidth": 0
          },
          "mapbox": {
           "style": "dark"
          }
         }
        },
        "xaxis": {
         "anchor": "y",
         "domain": [
          0.0,
          1.0
         ],
         "title": {
          "text": "Strategic Mineral"
         },
         "categoryorder": "max ascending"
        },
        "yaxis": {
         "anchor": "x",
         "domain": [
          0.0,
          1.0
         ],
         "title": {
          "text": "Production Share %"
         }
        },
        "legend": {
         "title": {
          "text": "Strained Relations"
         },
         "tracegroupgap": 0
        },
        "title": {
         "text": "\n             United States has strained relations with China and Russia, which together have production concentration\n             <br>in a majority of critical elements. Hover over bar to see description of critical element usage.\n             "
        },
        "barmode": "relative",
        "uniformtext": {
         "minsize": 12
        }
       },
       "config": {
        "plotlyServerURL": "https://plot.ly"
       }
      },
      "text/html": "<div>                            <div id=\"6512340c-8610-4f6e-bf9f-8b7330964f65\" class=\"plotly-graph-div\" style=\"height:525px; width:100%;\"></div>            <script type=\"text/javascript\">                require([\"plotly\"], function(Plotly) {                    window.PLOTLYENV=window.PLOTLYENV || {};                                    if (document.getElementById(\"6512340c-8610-4f6e-bf9f-8b7330964f65\")) {                    Plotly.newPlot(                        \"6512340c-8610-4f6e-bf9f-8b7330964f65\",                        [{\"alignmentgroup\":\"True\",\"customdata\":[[\"used in almost all sectors of the economy\"],[\"used in lead-acid batteries and flame retardants\"],[\"used in semi-conductors\"],[\"used in medical and atomic research\"],[\"used in catalytic converters, ceramics, glass, metallurgy, and polishing compounds\"],[\"used in permanent magnets, data storage devices, and lasers\"],[\"used in fiber optics, optical amplifiers, lasers, and glass colorants\"],[\"used in phosphors and nuclear control rods\"],[\"used in the manufacture of aluminum, cement, steel, gasoline, and fluorine chemicals\"],[\"used in medical imaging, permanent magnets, and steelmaking\"],[\"used for integrated circuits and optical devices like LEDs\"],[\"used for fiber optics and night vision applications\"],[\"used for lubricants, batteries, and fuel cells\"],[\"used in permanent magnets, nuclear control rods, and lasers\"],[\"used in liquid crystal display screens\"],[\"used to produce catalysts, ceramics, glass, polishing compounds, metallurgy, and batteries\"],[\"used in scintillators for medical imaging, electronics, and some cancer therapies\"],[\"used as an alloy and for reducing metals\"],[\"used in permanent magnets, rubber catalysts, and in medical and industrial lasers\"],[\"used in catalytic converters and as a catalyst agent\"],[\"used in permanent magnets, batteries, aerospace alloys, ceramics, and colorants\"],[\"used in permanent magnets, as an absorber in nuclear reactors, and in cancer treatments\"],[\"used for alloys, ceramics, and fuel cells\"],[\"used in solar cells, thermoelectric devices, and as alloying additive\"],[\"used in permanent magnets, fiber optics, lasers, and solid-state devices\"],[\"used in various metal alloys and in lasers\"],[\"used as protective coatings and alloys for steel\"],[\"used as a white pigment or metal alloys\"],[\"primarily used to make wear-resistant metals\"],[\"primarily used as alloying agent for iron and steel\"],[\"used for catalysts, scintillometers, lasers, and metallurgy\"],[\"used for ceramic, catalysts, lasers, metallurgy, and phosphors\"],[\"primarily used in metallurgy to produce galvanized steel\"]],\"hovertemplate\":\"Strained Relations=True\\u003cbr\\u003eStrategic Mineral=%{x}\\u003cbr\\u003eProduction Share %=%{y}\\u003cbr\\u003eCountry=%{text}\\u003cbr\\u003eDesc=%{customdata[0]}\\u003cextra\\u003e\\u003c\\u002fextra\\u003e\",\"legendgroup\":\"True\",\"marker\":{\"color\":\"#de2d26\",\"pattern\":{\"shape\":\"\"}},\"name\":\"True\",\"offsetgroup\":\"True\",\"orientation\":\"v\",\"showlegend\":true,\"text\":[\"China\",\"China\",\"China\",\"China\",\"China\",\"China\",\"China\",\"China\",\"China\",\"China\",\"China\",\"China\",\"China\",\"China\",\"China\",\"China\",\"China\",\"China\",\"China\",\"Russia\",\"China\",\"China\",\"China\",\"China\",\"China\",\"China\",\"China\",\"China\",\"China\",\"China\",\"China\",\"China\",\"China\"],\"textposition\":\"auto\",\"x\":[\"Aluminum\",\"Antimony\",\"Arsenic\",\"Bismuth\",\"Cerium\",\"Dysprosium\",\"Erbium\",\"Europium\",\"Fluorspar\",\"Gadolinium\",\"Gallium\",\"Germanium\",\"Graphite \",\"Holmium\",\"Indium\",\"Lanthanum\",\"Lutetium\",\"Magnesium\",\"Neodymium\",\"Palladium\",\"Praseodymium\",\"Samarium\",\"Scandium\",\"Tellurium\",\"Terbium\",\"Thulium\",\"Tin\",\"Titanium\",\"Tungsten\",\"Vanadium\",\"Ytterbium\",\"Yttrium\",\"Zinc\"],\"xaxis\":\"x\",\"y\":[57.97,54.55,45.9,80.0,97.0,90.0,97.0,97.0,68.67,97.0,98.18,60.0,65.38,97.0,58.89,42.6,50.0,90.0,90.0,41.9,70.0,90.0,97.0,53.13,90.0,50.0,30.65,50.0,84.52,70.0,50.0,97.0,32.21],\"yaxis\":\"y\",\"type\":\"bar\"},{\"alignmentgroup\":\"True\",\"customdata\":[[\"used in hydrocarbon production\"],[\"used as an alloying agent in aerospace and defense industries\"],[\"used in research and development\"],[\"used primarily in stainless steel and other alloys\"],[\"used in rechargeable batteries and superalloys\"],[\"used for nuclear control rods, alloys, and high-temperature ceramics\"],[\"used as coating of anodes for electrochemical processes and as a chemical catalyst\"],[\"used for rechargeable batteries\"],[\"used in steelmaking and batteries\"],[\"used to make stainless steel, superalloys, and rechargeable batteries\"],[\"used mostly in steel and superalloys\"],[\"used in catalytic converters\"],[\"used in catalytic converters, electrical components, and as a catalyst\"],[\"used for research and development in electronics\"],[\"used as catalysts, as well as electrical contacts and chip resistors in computers\"],[\"used in electronic components, mostly capacitors and in superalloys\"],[\"used in the high-temperature ceramics and corrosion-resistant alloys\"]],\"hovertemplate\":\"Strained Relations=False\\u003cbr\\u003eStrategic Mineral=%{x}\\u003cbr\\u003eProduction Share %=%{y}\\u003cbr\\u003eCountry=%{text}\\u003cbr\\u003eDesc=%{customdata[0]}\\u003cextra\\u003e\\u003c\\u002fextra\\u003e\",\"legendgroup\":\"False\",\"marker\":{\"color\":\"#a6bddb\",\"pattern\":{\"shape\":\"\"}},\"name\":\"False\",\"offsetgroup\":\"False\",\"orientation\":\"v\",\"showlegend\":true,\"text\":[\"India\",\"USA\",\"Canada\",\"South Africa\",\"DR Congo\",\"France\",\"South Africa\",\"Australia\",\"South Africa\",\"Indonesia\",\"Brazil\",\"South Africa\",\"South Africa\",\"Canada\",\"South Africa\",\"DR Congo\",\"Australia\"],\"textposition\":\"auto\",\"x\":[\"Barite\",\"Beryllium\",\"Cesium\",\"Chromium\",\"Cobalt\",\"Hafnium\",\"Iridium\",\"Lithium\",\"Manganese\",\"Nickel\",\"Niobium\",\"Platinum\",\"Rhodium\",\"Rubidium\",\"Ruthenium\",\"Tantalum\",\"Zirconium\"],\"xaxis\":\"x\",\"y\":[32.91,64.29,null,43.9,68.42,45.0,90.0,46.92,36.0,48.48,89.87,73.68,80.0,12.0,91.0,43.0,70.0],\"yaxis\":\"y\",\"type\":\"bar\"}],                        {\"template\":{\"data\":{\"histogram2dcontour\":[{\"type\":\"histogram2dcontour\",\"colorbar\":{\"outlinewidth\":0,\"ticks\":\"\"},\"colorscale\":[[0.0,\"#0d0887\"],[0.1111111111111111,\"#46039f\"],[0.2222222222222222,\"#7201a8\"],[0.3333333333333333,\"#9c179e\"],[0.4444444444444444,\"#bd3786\"],[0.5555555555555556,\"#d8576b\"],[0.6666666666666666,\"#ed7953\"],[0.7777777777777778,\"#fb9f3a\"],[0.8888888888888888,\"#fdca26\"],[1.0,\"#f0f921\"]]}],\"choropleth\":[{\"type\":\"choropleth\",\"colorbar\":{\"outlinewidth\":0,\"ticks\":\"\"}}],\"histogram2d\":[{\"type\":\"histogram2d\",\"colorbar\":{\"outlinewidth\":0,\"ticks\":\"\"},\"colorscale\":[[0.0,\"#0d0887\"],[0.1111111111111111,\"#46039f\"],[0.2222222222222222,\"#7201a8\"],[0.3333333333333333,\"#9c179e\"],[0.4444444444444444,\"#bd3786\"],[0.5555555555555556,\"#d8576b\"],[0.6666666666666666,\"#ed7953\"],[0.7777777777777778,\"#fb9f3a\"],[0.8888888888888888,\"#fdca26\"],[1.0,\"#f0f921\"]]}],\"heatmap\":[{\"type\":\"heatmap\",\"colorbar\":{\"outlinewidth\":0,\"ticks\":\"\"},\"colorscale\":[[0.0,\"#0d0887\"],[0.1111111111111111,\"#46039f\"],[0.2222222222222222,\"#7201a8\"],[0.3333333333333333,\"#9c179e\"],[0.4444444444444444,\"#bd3786\"],[0.5555555555555556,\"#d8576b\"],[0.6666666666666666,\"#ed7953\"],[0.7777777777777778,\"#fb9f3a\"],[0.8888888888888888,\"#fdca26\"],[1.0,\"#f0f921\"]]}],\"heatmapgl\":[{\"type\":\"heatmapgl\",\"colorbar\":{\"outlinewidth\":0,\"ticks\":\"\"},\"colorscale\":[[0.0,\"#0d0887\"],[0.1111111111111111,\"#46039f\"],[0.2222222222222222,\"#7201a8\"],[0.3333333333333333,\"#9c179e\"],[0.4444444444444444,\"#bd3786\"],[0.5555555555555556,\"#d8576b\"],[0.6666666666666666,\"#ed7953\"],[0.7777777777777778,\"#fb9f3a\"],[0.8888888888888888,\"#fdca26\"],[1.0,\"#f0f921\"]]}],\"contourcarpet\":[{\"type\":\"contourcarpet\",\"colorbar\":{\"outlinewidth\":0,\"ticks\":\"\"}}],\"contour\":[{\"type\":\"contour\",\"colorbar\":{\"outlinewidth\":0,\"ticks\":\"\"},\"colorscale\":[[0.0,\"#0d0887\"],[0.1111111111111111,\"#46039f\"],[0.2222222222222222,\"#7201a8\"],[0.3333333333333333,\"#9c179e\"],[0.4444444444444444,\"#bd3786\"],[0.5555555555555556,\"#d8576b\"],[0.6666666666666666,\"#ed7953\"],[0.7777777777777778,\"#fb9f3a\"],[0.8888888888888888,\"#fdca26\"],[1.0,\"#f0f921\"]]}],\"surface\":[{\"type\":\"surface\",\"colorbar\":{\"outlinewidth\":0,\"ticks\":\"\"},\"colorscale\":[[0.0,\"#0d0887\"],[0.1111111111111111,\"#46039f\"],[0.2222222222222222,\"#7201a8\"],[0.3333333333333333,\"#9c179e\"],[0.4444444444444444,\"#bd3786\"],[0.5555555555555556,\"#d8576b\"],[0.6666666666666666,\"#ed7953\"],[0.7777777777777778,\"#fb9f3a\"],[0.8888888888888888,\"#fdca26\"],[1.0,\"#f0f921\"]]}],\"mesh3d\":[{\"type\":\"mesh3d\",\"colorbar\":{\"outlinewidth\":0,\"ticks\":\"\"}}],\"scatter\":[{\"marker\":{\"line\":{\"color\":\"#283442\"}},\"type\":\"scatter\"}],\"parcoords\":[{\"type\":\"parcoords\",\"line\":{\"colorbar\":{\"outlinewidth\":0,\"ticks\":\"\"}}}],\"scatterpolargl\":[{\"type\":\"scatterpolargl\",\"marker\":{\"colorbar\":{\"outlinewidth\":0,\"ticks\":\"\"}}}],\"bar\":[{\"error_x\":{\"color\":\"#f2f5fa\"},\"error_y\":{\"color\":\"#f2f5fa\"},\"marker\":{\"line\":{\"color\":\"rgb(17,17,17)\",\"width\":0.5},\"pattern\":{\"fillmode\":\"overlay\",\"size\":10,\"solidity\":0.2}},\"type\":\"bar\"}],\"scattergeo\":[{\"type\":\"scattergeo\",\"marker\":{\"colorbar\":{\"outlinewidth\":0,\"ticks\":\"\"}}}],\"scatterpolar\":[{\"type\":\"scatterpolar\",\"marker\":{\"colorbar\":{\"outlinewidth\":0,\"ticks\":\"\"}}}],\"histogram\":[{\"marker\":{\"pattern\":{\"fillmode\":\"overlay\",\"size\":10,\"solidity\":0.2}},\"type\":\"histogram\"}],\"scattergl\":[{\"marker\":{\"line\":{\"color\":\"#283442\"}},\"type\":\"scattergl\"}],\"scatter3d\":[{\"type\":\"scatter3d\",\"line\":{\"colorbar\":{\"outlinewidth\":0,\"ticks\":\"\"}},\"marker\":{\"colorbar\":{\"outlinewidth\":0,\"ticks\":\"\"}}}],\"scattermapbox\":[{\"type\":\"scattermapbox\",\"marker\":{\"colorbar\":{\"outlinewidth\":0,\"ticks\":\"\"}}}],\"scatterternary\":[{\"type\":\"scatterternary\",\"marker\":{\"colorbar\":{\"outlinewidth\":0,\"ticks\":\"\"}}}],\"scattercarpet\":[{\"type\":\"scattercarpet\",\"marker\":{\"colorbar\":{\"outlinewidth\":0,\"ticks\":\"\"}}}],\"carpet\":[{\"aaxis\":{\"endlinecolor\":\"#A2B1C6\",\"gridcolor\":\"#506784\",\"linecolor\":\"#506784\",\"minorgridcolor\":\"#506784\",\"startlinecolor\":\"#A2B1C6\"},\"baxis\":{\"endlinecolor\":\"#A2B1C6\",\"gridcolor\":\"#506784\",\"linecolor\":\"#506784\",\"minorgridcolor\":\"#506784\",\"startlinecolor\":\"#A2B1C6\"},\"type\":\"carpet\"}],\"table\":[{\"cells\":{\"fill\":{\"color\":\"#506784\"},\"line\":{\"color\":\"rgb(17,17,17)\"}},\"header\":{\"fill\":{\"color\":\"#2a3f5f\"},\"line\":{\"color\":\"rgb(17,17,17)\"}},\"type\":\"table\"}],\"barpolar\":[{\"marker\":{\"line\":{\"color\":\"rgb(17,17,17)\",\"width\":0.5},\"pattern\":{\"fillmode\":\"overlay\",\"size\":10,\"solidity\":0.2}},\"type\":\"barpolar\"}],\"pie\":[{\"automargin\":true,\"type\":\"pie\"}]},\"layout\":{\"autotypenumbers\":\"strict\",\"colorway\":[\"#636efa\",\"#EF553B\",\"#00cc96\",\"#ab63fa\",\"#FFA15A\",\"#19d3f3\",\"#FF6692\",\"#B6E880\",\"#FF97FF\",\"#FECB52\"],\"font\":{\"color\":\"#f2f5fa\"},\"hovermode\":\"closest\",\"hoverlabel\":{\"align\":\"left\"},\"paper_bgcolor\":\"rgb(17,17,17)\",\"plot_bgcolor\":\"rgb(17,17,17)\",\"polar\":{\"bgcolor\":\"rgb(17,17,17)\",\"angularaxis\":{\"gridcolor\":\"#506784\",\"linecolor\":\"#506784\",\"ticks\":\"\"},\"radialaxis\":{\"gridcolor\":\"#506784\",\"linecolor\":\"#506784\",\"ticks\":\"\"}},\"ternary\":{\"bgcolor\":\"rgb(17,17,17)\",\"aaxis\":{\"gridcolor\":\"#506784\",\"linecolor\":\"#506784\",\"ticks\":\"\"},\"baxis\":{\"gridcolor\":\"#506784\",\"linecolor\":\"#506784\",\"ticks\":\"\"},\"caxis\":{\"gridcolor\":\"#506784\",\"linecolor\":\"#506784\",\"ticks\":\"\"}},\"coloraxis\":{\"colorbar\":{\"outlinewidth\":0,\"ticks\":\"\"}},\"colorscale\":{\"sequential\":[[0.0,\"#0d0887\"],[0.1111111111111111,\"#46039f\"],[0.2222222222222222,\"#7201a8\"],[0.3333333333333333,\"#9c179e\"],[0.4444444444444444,\"#bd3786\"],[0.5555555555555556,\"#d8576b\"],[0.6666666666666666,\"#ed7953\"],[0.7777777777777778,\"#fb9f3a\"],[0.8888888888888888,\"#fdca26\"],[1.0,\"#f0f921\"]],\"sequentialminus\":[[0.0,\"#0d0887\"],[0.1111111111111111,\"#46039f\"],[0.2222222222222222,\"#7201a8\"],[0.3333333333333333,\"#9c179e\"],[0.4444444444444444,\"#bd3786\"],[0.5555555555555556,\"#d8576b\"],[0.6666666666666666,\"#ed7953\"],[0.7777777777777778,\"#fb9f3a\"],[0.8888888888888888,\"#fdca26\"],[1.0,\"#f0f921\"]],\"diverging\":[[0,\"#8e0152\"],[0.1,\"#c51b7d\"],[0.2,\"#de77ae\"],[0.3,\"#f1b6da\"],[0.4,\"#fde0ef\"],[0.5,\"#f7f7f7\"],[0.6,\"#e6f5d0\"],[0.7,\"#b8e186\"],[0.8,\"#7fbc41\"],[0.9,\"#4d9221\"],[1,\"#276419\"]]},\"xaxis\":{\"gridcolor\":\"#283442\",\"linecolor\":\"#506784\",\"ticks\":\"\",\"title\":{\"standoff\":15},\"zerolinecolor\":\"#283442\",\"automargin\":true,\"zerolinewidth\":2},\"yaxis\":{\"gridcolor\":\"#283442\",\"linecolor\":\"#506784\",\"ticks\":\"\",\"title\":{\"standoff\":15},\"zerolinecolor\":\"#283442\",\"automargin\":true,\"zerolinewidth\":2},\"scene\":{\"xaxis\":{\"backgroundcolor\":\"rgb(17,17,17)\",\"gridcolor\":\"#506784\",\"linecolor\":\"#506784\",\"showbackground\":true,\"ticks\":\"\",\"zerolinecolor\":\"#C8D4E3\",\"gridwidth\":2},\"yaxis\":{\"backgroundcolor\":\"rgb(17,17,17)\",\"gridcolor\":\"#506784\",\"linecolor\":\"#506784\",\"showbackground\":true,\"ticks\":\"\",\"zerolinecolor\":\"#C8D4E3\",\"gridwidth\":2},\"zaxis\":{\"backgroundcolor\":\"rgb(17,17,17)\",\"gridcolor\":\"#506784\",\"linecolor\":\"#506784\",\"showbackground\":true,\"ticks\":\"\",\"zerolinecolor\":\"#C8D4E3\",\"gridwidth\":2}},\"shapedefaults\":{\"line\":{\"color\":\"#f2f5fa\"}},\"annotationdefaults\":{\"arrowcolor\":\"#f2f5fa\",\"arrowhead\":0,\"arrowwidth\":1},\"geo\":{\"bgcolor\":\"rgb(17,17,17)\",\"landcolor\":\"rgb(17,17,17)\",\"subunitcolor\":\"#506784\",\"showland\":true,\"showlakes\":true,\"lakecolor\":\"rgb(17,17,17)\"},\"title\":{\"x\":0.05},\"updatemenudefaults\":{\"bgcolor\":\"#506784\",\"borderwidth\":0},\"sliderdefaults\":{\"bgcolor\":\"#C8D4E3\",\"borderwidth\":1,\"bordercolor\":\"rgb(17,17,17)\",\"tickwidth\":0},\"mapbox\":{\"style\":\"dark\"}}},\"xaxis\":{\"anchor\":\"y\",\"domain\":[0.0,1.0],\"title\":{\"text\":\"Strategic Mineral\"},\"categoryorder\":\"max ascending\"},\"yaxis\":{\"anchor\":\"x\",\"domain\":[0.0,1.0],\"title\":{\"text\":\"Production Share %\"}},\"legend\":{\"title\":{\"text\":\"Strained Relations\"},\"tracegroupgap\":0},\"title\":{\"text\":\"\\n             United States has strained relations with China and Russia, which together have production concentration\\n             \\u003cbr\\u003ein a majority of critical elements. Hover over bar to see description of critical element usage.\\n             \"},\"barmode\":\"relative\",\"uniformtext\":{\"minsize\":12}},                        {\"responsive\": true}                    ).then(function(){\n                            \nvar gd = document.getElementById('6512340c-8610-4f6e-bf9f-8b7330964f65');\nvar x = new MutationObserver(function (mutations, observer) {{\n        var display = window.getComputedStyle(gd).display;\n        if (!display || display === 'none') {{\n            console.log([gd, 'removed!']);\n            Plotly.purge(gd);\n            observer.disconnect();\n        }}\n}});\n\n// Listen for the removal of the full notebook cells\nvar notebookContainer = gd.closest('#notebook-container');\nif (notebookContainer) {{\n    x.observe(notebookContainer, {childList: true});\n}}\n\n// Listen for the clearing of the current output cell\nvar outputEl = gd.closest('.output');\nif (outputEl) {{\n    x.observe(outputEl, {childList: true});\n}}\n\n                        })                };                });            </script>        </div>"
     },
     "metadata": {},
     "output_type": "display_data"
    }
   ],
   "source": [
    "fig = px.bar(criticals,\n",
    "             y = 'Production Share %',\n",
    "             x = 'Strategic Mineral',\n",
    "             color = 'Strained Relations',\n",
    "             text = 'Country',\n",
    "             hover_data = 'Desc',\n",
    "             color_discrete_sequence=['#de2d26', '#a6bddb'],\n",
    "             title = \"\"\"\n",
    "             United States has strained relations with China and Russia, which together have production concentration\n",
    "             <br>in a majority of critical elements. Hover over bar to see description of critical element usage.\n",
    "             \"\"\")\n",
    "fig.update_traces()\n",
    "fig.update_layout(uniformtext_minsize=12)\n",
    "fig.update_layout(xaxis={'categoryorder':'max ascending'})\n",
    "fig.show()"
   ]
  },
  {
   "cell_type": "code",
   "execution_count": null,
   "outputs": [],
   "source": [],
   "metadata": {
    "collapsed": false
   }
  }
 ],
 "metadata": {
  "kernelspec": {
   "display_name": "Python 3",
   "language": "python",
   "name": "python3"
  },
  "language_info": {
   "codemirror_mode": {
    "name": "ipython",
    "version": 3
   },
   "file_extension": ".py",
   "mimetype": "text/x-python",
   "name": "python",
   "nbconvert_exporter": "python",
   "pygments_lexer": "ipython3",
   "version": "3.11.3"
  }
 },
 "nbformat": 4,
 "nbformat_minor": 2
}
